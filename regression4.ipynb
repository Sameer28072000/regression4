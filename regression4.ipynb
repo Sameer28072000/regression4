{
 "cells": [
  {
   "cell_type": "markdown",
   "id": "bc0ca9ad-eeba-4695-bd3c-42fb7c467d09",
   "metadata": {},
   "source": [
    "Q1. What is Lasso Regression, and how does it differ from other regression techniques?"
   ]
  },
  {
   "cell_type": "code",
   "execution_count": null,
   "id": "f8d2b37e-7616-4915-a13c-0b72434be111",
   "metadata": {},
   "outputs": [],
   "source": [
    "Ans:-Lasso regression scaled down to zero (due to we are eliminate the feature).\n",
    "     This is also called as feature elimination technique.\n",
    "    \n",
    "     Differ from other regression techniques:-\n",
    "    i.Feature selection\n",
    "    ii.Sparse matrix\n",
    "    iii.hyper parameter tuning\n",
    "    "
   ]
  },
  {
   "cell_type": "markdown",
   "id": "e3fdbd35-f908-469b-a31e-b2e4e0fdef80",
   "metadata": {},
   "source": [
    "Q2. What is the main advantage of using Lasso Regression in feature selection?"
   ]
  },
  {
   "cell_type": "code",
   "execution_count": null,
   "id": "f7baf551-9d7f-4ff4-9024-b12a4b151e55",
   "metadata": {},
   "outputs": [],
   "source": [
    "Ans:-Automatically identify & select the most relevant feature from the large dataset.\n",
    "     i.Automatic FEature Selection\n",
    "      ii.improved model interpretability\n",
    "        iii.Reduce model complexity  "
   ]
  },
  {
   "cell_type": "markdown",
   "id": "de08159d-43ad-4d32-a560-ca187751d2b3",
   "metadata": {},
   "source": [
    "Q3. How do you interpret the coefficients of a Lasso Regression model?"
   ]
  },
  {
   "cell_type": "code",
   "execution_count": null,
   "id": "3c4735e0-bb94-4c34-899f-21efaeac0043",
   "metadata": {},
   "outputs": [],
   "source": [
    "Ans:- interpret the coefficients of a Lasso Regression model similar to  interpret the coefficients in other regression model.\n",
    "      i.magnitude of coefficient\n",
    "        ii.non-zero coefficient\n",
    "          iii.sparsity"
   ]
  },
  {
   "cell_type": "markdown",
   "id": "e726cd10-7227-49ec-819a-029b5b1a16a5",
   "metadata": {},
   "source": [
    "Q4. What are the tuning parameters that can be adjusted in Lasso Regression, and how do they affect the\n",
    "model's performance?"
   ]
  },
  {
   "cell_type": "code",
   "execution_count": null,
   "id": "039335de-d397-48d9-8e1f-93a8ed5bd7fc",
   "metadata": {},
   "outputs": [],
   "source": [
    "Ans:-you can adjusted tuning parameter in Lasso Regression denoted by alpha or lambda.\n",
    "     i.High regularization parameter\n",
    "     ii.low regularization parameter"
   ]
  },
  {
   "cell_type": "markdown",
   "id": "634b85fa-0363-4ac3-92cb-281f328b6bbf",
   "metadata": {},
   "source": [
    "Q5. Can Lasso Regression be used for non-linear regression problems? If yes, how?"
   ]
  },
  {
   "cell_type": "code",
   "execution_count": null,
   "id": "d18bf45b-e781-423c-b1f9-98784d310704",
   "metadata": {},
   "outputs": [],
   "source": [
    "Ans:-Lasso regression is a linear regression technique primarily used in linear regression problem .\n",
    "     Lasso Regression can handle non-linear regression problems by incorporating non-linear transformations. \n",
    "    \n",
    "     Lasso non-linear regression :-\n",
    "    i.generate polnomial feature\n",
    "    ii.perform lasso regression\n",
    "    iii.model evaluation"
   ]
  },
  {
   "cell_type": "markdown",
   "id": "9c57744e-0c5a-4618-bc78-bb00c47b0ae2",
   "metadata": {},
   "source": [
    "Q6. What is the difference between Ridge Regression and Lasso Regression?"
   ]
  },
  {
   "cell_type": "code",
   "execution_count": null,
   "id": "2ef6dd68-7425-405b-bcb5-db737e28b062",
   "metadata": {},
   "outputs": [],
   "source": [
    "Ans:- Both are regularization technique\n",
    "      Ridge Regression(L2) scaled down high coff. to low coff. but not zero\n",
    "       Lasso Regression(L1) scaled down to zero (due to we are eliminate the feature).\n",
    "        This is also called as feature elimination technique."
   ]
  },
  {
   "cell_type": "markdown",
   "id": "4e05b721-56a0-4b25-a83f-bb3987a8bfed",
   "metadata": {},
   "source": [
    "Q7. Can Lasso Regression handle multicollinearity in the input features? If yes, how?"
   ]
  },
  {
   "cell_type": "code",
   "execution_count": null,
   "id": "034032cf-0d48-4dd7-8e22-872a3a3dc001",
   "metadata": {},
   "outputs": [],
   "source": [
    "Ans:-yes,Lasso Regression can handle multicollinearity in the input features by performing feature selection.\n",
    "\n",
    "     Handle multicollinearity:-\n",
    "      i.feature selection\n",
    "        ii.importance of regularization parameter"
   ]
  },
  {
   "cell_type": "markdown",
   "id": "77c1f0f3-d6ab-44ae-a002-9ff6b7203234",
   "metadata": {},
   "source": [
    "Q8. How do you choose the optimal value of the regularization parameter (lambda) in Lasso Regression?"
   ]
  },
  {
   "cell_type": "code",
   "execution_count": null,
   "id": "ad42e7da-9191-4b2f-896a-f69e01d33ad7",
   "metadata": {},
   "outputs": [],
   "source": [
    "Ans:-\n",
    "     i.cross-validation"
   ]
  }
 ],
 "metadata": {
  "kernelspec": {
   "display_name": "Python 3 (ipykernel)",
   "language": "python",
   "name": "python3"
  },
  "language_info": {
   "codemirror_mode": {
    "name": "ipython",
    "version": 3
   },
   "file_extension": ".py",
   "mimetype": "text/x-python",
   "name": "python",
   "nbconvert_exporter": "python",
   "pygments_lexer": "ipython3",
   "version": "3.10.8"
  }
 },
 "nbformat": 4,
 "nbformat_minor": 5
}
